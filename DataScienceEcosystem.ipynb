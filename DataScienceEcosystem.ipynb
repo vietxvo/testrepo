{
 "cells": [
  {
   "cell_type": "markdown",
   "id": "56ee3568",
   "metadata": {},
   "source": [
    "# Data Science Tools and Ecosystem"
   ]
  },
  {
   "cell_type": "markdown",
   "id": "57be8795",
   "metadata": {},
   "source": [
    "In this notebook, Data Science Tools and Ecosystem are summarized\n"
   ]
  },
  {
   "cell_type": "markdown",
   "id": "53cff87e",
   "metadata": {},
   "source": [
    "Some of the popular languages that Data Scientists use are:\n",
    "1. Python\n",
    "2. JavaScript\n",
    "3. HTML"
   ]
  },
  {
   "cell_type": "markdown",
   "id": "c9ea63d6",
   "metadata": {},
   "source": [
    "Some of the commonly used libraries used by Data Scientists include:\n",
    "1. Matplotlib\n",
    "2. NumPy\n",
    "3. Pandas\n",
    "4. Scikit-learn\n",
    "5. dplyr\n",
    "6. stringr\n",
    "7. ggplot\n",
    "8. caret"
   ]
  },
  {
   "cell_type": "markdown",
   "id": "0cca0950",
   "metadata": {},
   "source": [
    "|Data Science Tools|\n",
    "|---|\n",
    "|Jupyter|\n",
    "|Apache Zeppelin|\n",
    "|R Studio"
   ]
  },
  {
   "cell_type": "markdown",
   "id": "392e91a4",
   "metadata": {},
   "source": [
    "### Below are a few examples of evaluating arithmetic expressions in Python"
   ]
  },
  {
   "cell_type": "code",
   "execution_count": 4,
   "id": "323b31e2",
   "metadata": {},
   "outputs": [
    {
     "name": "stdout",
     "output_type": "stream",
     "text": [
      "This a simple arithmetic expression to multiply then add integers\n"
     ]
    },
    {
     "data": {
      "text/plain": [
       "17"
      ]
     },
     "execution_count": 4,
     "metadata": {},
     "output_type": "execute_result"
    }
   ],
   "source": [
    "print (\"This a simple arithmetic expression to multiply then add integers\")\n",
    "(3*4)+5"
   ]
  },
  {
   "cell_type": "code",
   "execution_count": 7,
   "id": "de07f5b6",
   "metadata": {},
   "outputs": [
    {
     "name": "stdout",
     "output_type": "stream",
     "text": [
      "This will convert 200 minutes to hours to by dividing by 60\n",
      "3.3333333333333335 hours\n"
     ]
    }
   ],
   "source": [
    "print ('This will convert 200 minutes to hours to by dividing by 60')\n",
    "A = 200/60\n",
    "\n",
    "print (A, \"hours\")"
   ]
  },
  {
   "cell_type": "markdown",
   "id": "4289b44a",
   "metadata": {},
   "source": [
    "**Objectives:**\n",
    "- List popular languages for DS\n",
    "- List popular Development Environment for DS\n",
    "- Review key components of the course thus far"
   ]
  },
  {
   "cell_type": "markdown",
   "id": "82c97808",
   "metadata": {},
   "source": [
    "## Author\n",
    "Viet Vo"
   ]
  },
  {
   "cell_type": "code",
   "execution_count": null,
   "id": "dc584c02",
   "metadata": {},
   "outputs": [],
   "source": []
  }
 ],
 "metadata": {
  "kernelspec": {
   "display_name": "Python 3 (ipykernel)",
   "language": "python",
   "name": "python3"
  },
  "language_info": {
   "codemirror_mode": {
    "name": "ipython",
    "version": 3
   },
   "file_extension": ".py",
   "mimetype": "text/x-python",
   "name": "python",
   "nbconvert_exporter": "python",
   "pygments_lexer": "ipython3",
   "version": "3.9.7"
  }
 },
 "nbformat": 4,
 "nbformat_minor": 5
}
